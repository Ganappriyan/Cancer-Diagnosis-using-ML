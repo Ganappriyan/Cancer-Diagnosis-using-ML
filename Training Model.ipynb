{
 "cells": [
  {
   "cell_type": "code",
   "execution_count": 16,
   "metadata": {},
   "outputs": [],
   "source": [
    "import tensorflow as tf\n",
    "import matplotlib.pyplot as plt\n",
    "import os\n",
    "import json"
   ]
  },
  {
   "cell_type": "code",
   "execution_count": 2,
   "metadata": {},
   "outputs": [
    {
     "name": "stdout",
     "output_type": "stream",
     "text": [
      "[PhysicalDevice(name='/physical_device:GPU:0', device_type='GPU')]\n"
     ]
    }
   ],
   "source": [
    "tf.__version__\n",
    "gpu = tf.config.list_physical_devices('GPU')\n",
    "print(gpu)"
   ]
  },
  {
   "attachments": {},
   "cell_type": "markdown",
   "metadata": {},
   "source": [
    "<h3>Loading Dataset</h3>"
   ]
  },
  {
   "cell_type": "code",
   "execution_count": 3,
   "metadata": {},
   "outputs": [
    {
     "name": "stdout",
     "output_type": "stream",
     "text": [
      "Found 5000 images belonging to 5 classes.\n",
      "Found 250 images belonging to 5 classes.\n"
     ]
    }
   ],
   "source": [
    "image_generator = tf.keras.preprocessing.image.ImageDataGenerator(rescale=1/255)\n",
    "\n",
    "train_dataset = image_generator.flow_from_directory(batch_size=32,\n",
    "                                                 directory='data_cleaned/Training',\n",
    "                                                 shuffle=True,\n",
    "                                                 target_size=(512,512), \n",
    "                                                 subset=\"training\",\n",
    "                                                 class_mode='categorical')\n",
    "validation_dataset = image_generator.flow_from_directory(batch_size=32,\n",
    "                                                 directory='data_cleaned/Validation',\n",
    "                                                 shuffle=True,\n",
    "                                                 target_size=(512,512), \n",
    "                                                 class_mode='categorical')"
   ]
  },
  {
   "attachments": {},
   "cell_type": "markdown",
   "metadata": {},
   "source": [
    "<h3>Building CNN</h3>"
   ]
  },
  {
   "cell_type": "code",
   "execution_count": 4,
   "metadata": {},
   "outputs": [],
   "source": [
    "model = tf.keras.models.Sequential([\n",
    "    #------------------------------------\n",
    "    # Conv Block 1: 32 Filters, MaxPool.\n",
    "    #------------------------------------\n",
    "    tf.keras.layers.Conv2D(32, kernel_size=(3, 3), padding='same', activation='relu', input_shape = [512,512,3]),\n",
    "    tf.keras.layers.MaxPooling2D((2,2)),\n",
    "    #------------------------------------\n",
    "    # Conv Block 2: 64 Filters, MaxPool.\n",
    "    #------------------------------------\n",
    "    tf.keras.layers.Conv2D(64, (3, 3), activation='relu'),\n",
    "    tf.keras.layers.MaxPooling2D((2,2)),\n",
    "    #------------------------------------\n",
    "    # Conv Block 2: 64 Filters, MaxPool.\n",
    "    #------------------------------------\n",
    "    tf.keras.layers.Conv2D(64, (3, 3), activation='relu'),\n",
    "    tf.keras.layers.MaxPooling2D((2,2)),\n",
    "    #------------------------------------\n",
    "    # Flatten the convolutional features.\n",
    "    #------------------------------------\n",
    "    tf.keras.layers.Flatten(),\n",
    "    tf.keras.layers.Dense(100, activation='relu'),\n",
    "    tf.keras.layers.Dense(5, activation ='softmax'),\n",
    "])"
   ]
  },
  {
   "attachments": {},
   "cell_type": "markdown",
   "metadata": {},
   "source": [
    "#### Visualize: Neural Network Architecture"
   ]
  },
  {
   "cell_type": "code",
   "execution_count": 5,
   "metadata": {},
   "outputs": [],
   "source": [
    "model.compile(\n",
    "    loss = 'binary_crossentropy',\n",
    "    optimizer = 'adam',\n",
    "    metrics = ['accuracy']\n",
    ")\n",
    "\n",
    "callback = tf.keras.callbacks.EarlyStopping(\n",
    "    monitor='val_loss',\n",
    "    patience=5,\n",
    "    restore_best_weights=True\n",
    ")"
   ]
  },
  {
   "cell_type": "code",
   "execution_count": 6,
   "metadata": {},
   "outputs": [
    {
     "name": "stdout",
     "output_type": "stream",
     "text": [
      "Epoch 1/30\n",
      "157/157 [==============================] - 73s 462ms/step - loss: 0.3888 - accuracy: 0.5640 - val_loss: 0.2642 - val_accuracy: 0.6960\n",
      "Epoch 2/30\n",
      "157/157 [==============================] - 72s 454ms/step - loss: 0.2036 - accuracy: 0.7874 - val_loss: 0.1456 - val_accuracy: 0.9160\n",
      "Epoch 3/30\n",
      "157/157 [==============================] - 71s 452ms/step - loss: 0.1358 - accuracy: 0.8800 - val_loss: 0.1105 - val_accuracy: 0.8880\n",
      "Epoch 4/30\n",
      "157/157 [==============================] - 72s 456ms/step - loss: 0.0771 - accuracy: 0.9416 - val_loss: 0.0888 - val_accuracy: 0.9360\n",
      "Epoch 5/30\n",
      "157/157 [==============================] - 72s 458ms/step - loss: 0.0709 - accuracy: 0.9504 - val_loss: 0.0251 - val_accuracy: 0.9840\n",
      "Epoch 6/30\n",
      "157/157 [==============================] - 72s 456ms/step - loss: 0.0187 - accuracy: 0.9908 - val_loss: 0.0085 - val_accuracy: 1.0000\n",
      "Epoch 7/30\n",
      "157/157 [==============================] - 72s 456ms/step - loss: 0.0211 - accuracy: 0.9886 - val_loss: 0.0727 - val_accuracy: 0.9800\n",
      "Epoch 8/30\n",
      "157/157 [==============================] - 72s 454ms/step - loss: 0.0654 - accuracy: 0.9624 - val_loss: 0.0214 - val_accuracy: 0.9920\n",
      "Epoch 9/30\n",
      "157/157 [==============================] - 72s 456ms/step - loss: 0.0393 - accuracy: 0.9806 - val_loss: 0.0242 - val_accuracy: 0.9840\n",
      "Epoch 10/30\n",
      "157/157 [==============================] - 72s 454ms/step - loss: 0.0157 - accuracy: 0.9908 - val_loss: 0.0182 - val_accuracy: 0.9960\n",
      "Epoch 11/30\n",
      "157/157 [==============================] - 72s 455ms/step - loss: 0.0039 - accuracy: 0.9990 - val_loss: 6.1745e-04 - val_accuracy: 1.0000\n",
      "Epoch 12/30\n",
      "157/157 [==============================] - 71s 454ms/step - loss: 0.0040 - accuracy: 0.9986 - val_loss: 0.0021 - val_accuracy: 1.0000\n",
      "Epoch 13/30\n",
      "157/157 [==============================] - 71s 452ms/step - loss: 0.0018 - accuracy: 0.9994 - val_loss: 2.0322e-04 - val_accuracy: 1.0000\n",
      "Epoch 14/30\n",
      "157/157 [==============================] - 71s 454ms/step - loss: 1.4544e-04 - accuracy: 1.0000 - val_loss: 1.0233e-04 - val_accuracy: 1.0000\n",
      "Epoch 15/30\n",
      "157/157 [==============================] - 72s 454ms/step - loss: 8.1457e-05 - accuracy: 1.0000 - val_loss: 6.9464e-05 - val_accuracy: 1.0000\n",
      "Epoch 16/30\n",
      "157/157 [==============================] - 73s 460ms/step - loss: 6.1576e-05 - accuracy: 1.0000 - val_loss: 5.8586e-05 - val_accuracy: 1.0000\n",
      "Epoch 17/30\n",
      "157/157 [==============================] - 72s 457ms/step - loss: 4.8148e-05 - accuracy: 1.0000 - val_loss: 4.6448e-05 - val_accuracy: 1.0000\n",
      "Epoch 18/30\n",
      "157/157 [==============================] - 72s 454ms/step - loss: 3.9616e-05 - accuracy: 1.0000 - val_loss: 4.0096e-05 - val_accuracy: 1.0000\n",
      "Epoch 19/30\n",
      "157/157 [==============================] - 71s 450ms/step - loss: 3.3097e-05 - accuracy: 1.0000 - val_loss: 3.3340e-05 - val_accuracy: 1.0000\n",
      "Epoch 20/30\n",
      "157/157 [==============================] - 72s 455ms/step - loss: 2.7873e-05 - accuracy: 1.0000 - val_loss: 2.8202e-05 - val_accuracy: 1.0000\n",
      "Epoch 21/30\n",
      "157/157 [==============================] - 72s 456ms/step - loss: 2.4424e-05 - accuracy: 1.0000 - val_loss: 2.4059e-05 - val_accuracy: 1.0000\n",
      "Epoch 22/30\n",
      "157/157 [==============================] - 72s 454ms/step - loss: 2.1047e-05 - accuracy: 1.0000 - val_loss: 2.1289e-05 - val_accuracy: 1.0000\n",
      "Epoch 23/30\n",
      "157/157 [==============================] - 71s 453ms/step - loss: 1.8411e-05 - accuracy: 1.0000 - val_loss: 1.8679e-05 - val_accuracy: 1.0000\n",
      "Epoch 24/30\n",
      "157/157 [==============================] - 72s 455ms/step - loss: 1.6169e-05 - accuracy: 1.0000 - val_loss: 1.7581e-05 - val_accuracy: 1.0000\n",
      "Epoch 25/30\n",
      "157/157 [==============================] - 71s 451ms/step - loss: 1.4234e-05 - accuracy: 1.0000 - val_loss: 1.4819e-05 - val_accuracy: 1.0000\n",
      "Epoch 26/30\n",
      "157/157 [==============================] - 72s 455ms/step - loss: 1.2554e-05 - accuracy: 1.0000 - val_loss: 1.3069e-05 - val_accuracy: 1.0000\n",
      "Epoch 27/30\n",
      "157/157 [==============================] - 72s 455ms/step - loss: 1.1112e-05 - accuracy: 1.0000 - val_loss: 1.1503e-05 - val_accuracy: 1.0000\n",
      "Epoch 28/30\n",
      "157/157 [==============================] - 72s 456ms/step - loss: 9.8933e-06 - accuracy: 1.0000 - val_loss: 1.0444e-05 - val_accuracy: 1.0000\n",
      "Epoch 29/30\n",
      "157/157 [==============================] - 72s 454ms/step - loss: 8.8463e-06 - accuracy: 1.0000 - val_loss: 9.4751e-06 - val_accuracy: 1.0000\n",
      "Epoch 30/30\n",
      "157/157 [==============================] - 72s 457ms/step - loss: 7.8781e-06 - accuracy: 1.0000 - val_loss: 8.2006e-06 - val_accuracy: 1.0000\n"
     ]
    }
   ],
   "source": [
    "history = model.fit(train_dataset, \n",
    "                    epochs=30, \n",
    "                    validation_data=validation_dataset, \n",
    "                    callbacks=callback)"
   ]
  },
  {
   "cell_type": "code",
   "execution_count": 20,
   "metadata": {},
   "outputs": [],
   "source": [
    "historyname = f'history{len(os.listdir(path=\"PlotGraphs/History\"))+1}.json'\n",
    "with open(f'PlotGraphs/History/{historyname}', 'w') as f:\n",
    "    json.dump(history.history, f)"
   ]
  },
  {
   "cell_type": "code",
   "execution_count": 7,
   "metadata": {},
   "outputs": [
    {
     "data": {
      "image/png": "[encoded data removed]",
      "text/plain": [
       "<Figure size 1080x360 with 1 Axes>"
      ]
     },
     "metadata": {
      "needs_background": "light"
     },
     "output_type": "display_data"
    },
    {
     "data": {
      "image/png": "[encoded data removed]",
      "text/plain": [
       "<Figure size 1080x360 with 1 Axes>"
      ]
     },
     "metadata": {
      "needs_background": "light"
     },
     "output_type": "display_data"
    }
   ],
   "source": [
    "from matplotlib.ticker import (MultipleLocator, FormatStrFormatter)\n",
    "def plot_results(metrics, title=None, ylabel=None, ylim=None, metric_name=None, color=None):     \n",
    "    fig, ax = plt.subplots(figsize=(15, 5))\n",
    " \n",
    "    if not (isinstance(metric_name, list) or isinstance(metric_name, tuple)):\n",
    "        metrics = [metrics,]\n",
    "        metric_name = [metric_name,]\n",
    "         \n",
    "    for idx, metric in enumerate(metrics):    \n",
    "        ax.plot(metric, color=color[idx])\n",
    "     \n",
    "    plt.xlabel(\"Epoch\")\n",
    "    plt.ylabel(ylabel)\n",
    "    plt.title(title)\n",
    "    plt.xlim([0, 20])\n",
    "    plt.ylim(ylim)\n",
    "    ax.xaxis.set_major_locator(MultipleLocator(1))\n",
    "    ax.xaxis.set_major_formatter(FormatStrFormatter('%d'))\n",
    "    ax.xaxis.set_minor_locator(MultipleLocator(1))\n",
    "    plt.grid(True)\n",
    "    plt.legend(metric_name)   \n",
    "    plt.show()\n",
    "    plt.close()\n",
    "\n",
    "loss = history.history['loss']\n",
    "val_loss = history.history['val_loss']\n",
    "accuracy = history.history['accuracy']\n",
    "val_accuracy = history.history['val_accuracy']\n",
    "\n",
    "plot_results([loss, val_loss],        \n",
    "            ylabel=\"Loss\", \n",
    "            ylim = [0.0, 5.0],\n",
    "            metric_name=[\"Training Loss\", \"Validation Loss\"],\n",
    "            color=[\"g\", \"b\"])\n",
    " \n",
    "plot_results([accuracy, val_accuracy], \n",
    "            ylabel=\"Accuracy\",\n",
    "            ylim = [0.0, 1.0],\n",
    "            metric_name=[\"Training Accuracy\", \"Validation Accuracy\"],\n",
    "            color=[\"g\", \"b\"])"
   ]
  },
  {
   "cell_type": "code",
   "execution_count": 8,
   "metadata": {},
   "outputs": [
    {
     "name": "stdout",
     "output_type": "stream",
     "text": [
      "8/8 [==============================] - 2s 221ms/step - loss: 8.2006e-06 - accuracy: 1.0000\n",
      "Loss:  8.200623597076628e-06\n",
      "Accuracy:  1.0\n"
     ]
    }
   ],
   "source": [
    "loss, accuracy = model.evaluate(validation_dataset)\n",
    "print(\"Loss: \", loss)\n",
    "print(\"Accuracy: \", accuracy)"
   ]
  },
  {
   "cell_type": "code",
   "execution_count": 9,
   "metadata": {},
   "outputs": [
    {
     "name": "stdout",
     "output_type": "stream",
     "text": [
      "Model Saved: modelv2.h5\n"
     ]
    }
   ],
   "source": [
    "modelname = f'modelv{len(os.listdir(path=\"Model\"))+1}.h5'\n",
    "model.save(f'Model/{modelname}')\n",
    "print(f\"Model Saved: {modelname}\")"
   ]
  }
 ],
 "metadata": {
  "kernelspec": {
   "display_name": "tf",
   "language": "python",
   "name": "python3"
  },
  "language_info": {
   "codemirror_mode": {
    "name": "ipython",
    "version": 3
   },
   "file_extension": ".py",
   "mimetype": "text/x-python",
   "name": "python",
   "nbconvert_exporter": "python",
   "pygments_lexer": "ipython3",
   "version": "3.8.16"
  },
  "orig_nbformat": 4
 },
 "nbformat": 4,
 "nbformat_minor": 2
}
