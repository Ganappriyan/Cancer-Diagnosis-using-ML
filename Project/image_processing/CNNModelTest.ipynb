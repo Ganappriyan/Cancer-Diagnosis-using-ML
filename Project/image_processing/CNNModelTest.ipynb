{
 "cells": [
  {
   "cell_type": "code",
   "execution_count": 1,
   "metadata": {},
   "outputs": [],
   "source": [
    "import tensorflow as tf\n",
    "from tensorflow.keras.preprocessing.image import load_img, img_to_array\n",
    "from cnnmodel import CNNModel"
   ]
  },
  {
   "cell_type": "code",
   "execution_count": 2,
   "metadata": {},
   "outputs": [
    {
     "name": "stdout",
     "output_type": "stream",
     "text": [
      "Found 772 images belonging to 4 classes.\n",
      "Found 190 images belonging to 4 classes.\n",
      "Classes: {'high_squamous_intra-epithelial_lesion': 0, 'low_squamous intra-epithelial_lesion': 1, 'negative_for_Intr_epithelial_malignancy': 2, 'squamous_cell_carcinoma': 3}\n",
      "Loading model: simple_nosoftmax.h5\n"
     ]
    }
   ],
   "source": [
    "# Open Model\n",
    "cnnmodel = CNNModel(\"grade\", \"simple_nosoftmax.h5\")"
   ]
  },
  {
   "cell_type": "code",
   "execution_count": 3,
   "metadata": {},
   "outputs": [
    {
     "name": "stdout",
     "output_type": "stream",
     "text": [
      "Model: \"model\"\n",
      "_________________________________________________________________\n",
      " Layer (type)                Output Shape              Param #   \n",
      "=================================================================\n",
      " input_1 (InputLayer)        [(None, 512, 512, 3)]     0         \n",
      "                                                                 \n",
      " conv2d (Conv2D)             (None, 510, 510, 16)      448       \n",
      "                                                                 \n",
      " max_pooling2d (MaxPooling2D  (None, 255, 255, 16)     0         \n",
      " )                                                               \n",
      "                                                                 \n",
      " conv2d_1 (Conv2D)           (None, 253, 253, 32)      4640      \n",
      "                                                                 \n",
      " max_pooling2d_1 (MaxPooling  (None, 126, 126, 32)     0         \n",
      " 2D)                                                             \n",
      "                                                                 \n",
      " conv2d_2 (Conv2D)           (None, 124, 124, 64)      18496     \n",
      "                                                                 \n",
      " max_pooling2d_2 (MaxPooling  (None, 62, 62, 64)       0         \n",
      " 2D)                                                             \n",
      "                                                                 \n",
      " flatten (Flatten)           (None, 246016)            0         \n",
      "                                                                 \n",
      " dense (Dense)               (None, 256)               62980352  \n",
      "                                                                 \n",
      " dense_1 (Dense)             (None, 4)                 1028      \n",
      "                                                                 \n",
      "=================================================================\n",
      "Total params: 63,004,964\n",
      "Trainable params: 63,004,964\n",
      "Non-trainable params: 0\n",
      "_________________________________________________________________\n"
     ]
    }
   ],
   "source": [
    "# Get Model Summary\n",
    "# cnnmodel.model.summary()"
   ]
  },
  {
   "cell_type": "code",
   "execution_count": 4,
   "metadata": {},
   "outputs": [
    {
     "name": "stdout",
     "output_type": "stream",
     "text": [
      "Epoch 1/30\n",
      "25/25 [==============================] - 49s 2s/step - loss: 0.5219 - accuracy: 0.8161 - val_loss: 0.2413 - val_accuracy: 0.9053\n",
      "Epoch 2/30\n",
      "25/25 [==============================] - 47s 2s/step - loss: 0.1923 - accuracy: 0.9352 - val_loss: 0.2297 - val_accuracy: 0.9105\n",
      "Epoch 3/30\n",
      "25/25 [==============================] - 47s 2s/step - loss: 0.0817 - accuracy: 0.9728 - val_loss: 0.3447 - val_accuracy: 0.8789\n",
      "Epoch 4/30\n",
      "25/25 [==============================] - 48s 2s/step - loss: 0.0874 - accuracy: 0.9793 - val_loss: 0.2980 - val_accuracy: 0.8947\n",
      "Epoch 5/30\n",
      "25/25 [==============================] - 47s 2s/step - loss: 0.0917 - accuracy: 0.9689 - val_loss: 0.7190 - val_accuracy: 0.8421\n",
      "Epoch 6/30\n",
      "25/25 [==============================] - 47s 2s/step - loss: 0.0480 - accuracy: 0.9870 - val_loss: 0.5288 - val_accuracy: 0.8684\n",
      "Epoch 7/30\n",
      "25/25 [==============================] - 47s 2s/step - loss: 0.0149 - accuracy: 0.9987 - val_loss: 0.6980 - val_accuracy: 0.8737\n",
      "Evaluating model\n",
      "6/6 [==============================] - 9s 1s/step - loss: 0.2297 - accuracy: 0.9105\n",
      "[0.22972527146339417, 0.9105263352394104]\n"
     ]
    }
   ],
   "source": [
    "cnnmodel.train(epochs=30)\n",
    "print(\"\\nEvaluating model\")\n",
    "print(cnnmodel.model.evaluate(cnnmodel.validation_generator))"
   ]
  },
  {
   "cell_type": "code",
   "execution_count": 7,
   "metadata": {},
   "outputs": [],
   "source": [
    "cnnmodel.save(filename=None)"
   ]
  },
  {
   "cell_type": "code",
   "execution_count": null,
   "metadata": {},
   "outputs": [],
   "source": [
    "cnnmodel.predict(img_to_array(load_img(\"test.jpg\", target_size=(512, 512))) / 255.0)"
   ]
  }
 ],
 "metadata": {
  "kernelspec": {
   "display_name": "mlp",
   "language": "python",
   "name": "python3"
  },
  "language_info": {
   "codemirror_mode": {
    "name": "ipython",
    "version": 3
   },
   "file_extension": ".py",
   "mimetype": "text/x-python",
   "name": "python",
   "nbconvert_exporter": "python",
   "pygments_lexer": "ipython3",
   "version": "3.8.16"
  },
  "orig_nbformat": 4
 },
 "nbformat": 4,
 "nbformat_minor": 2
}
