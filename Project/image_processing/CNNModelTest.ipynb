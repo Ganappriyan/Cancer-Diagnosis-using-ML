{
 "cells": [
  {
   "cell_type": "code",
   "execution_count": 2,
   "metadata": {},
   "outputs": [
    {
     "name": "stderr",
     "output_type": "stream",
     "text": [
      "2023-04-12 01:57:48.192871: I tensorflow/tsl/cuda/cudart_stub.cc:28] Could not find cuda drivers on your machine, GPU will not be used.\n",
      "2023-04-12 01:57:48.690979: I tensorflow/tsl/cuda/cudart_stub.cc:28] Could not find cuda drivers on your machine, GPU will not be used.\n",
      "2023-04-12 01:57:48.697135: I tensorflow/core/platform/cpu_feature_guard.cc:182] This TensorFlow binary is optimized to use available CPU instructions in performance-critical operations.\n",
      "To enable the following instructions: AVX2 AVX512F FMA, in other operations, rebuild TensorFlow with the appropriate compiler flags.\n",
      "2023-04-12 01:57:53.189629: W tensorflow/compiler/tf2tensorrt/utils/py_utils.cc:38] TF-TRT Warning: Could not find TensorRT\n"
     ]
    }
   ],
   "source": [
    "import tensorflow as tf\n",
    "from cnnmodel import CNNModel"
   ]
  },
  {
   "cell_type": "code",
   "execution_count": 4,
   "metadata": {},
   "outputs": [
    {
     "name": "stdout",
     "output_type": "stream",
     "text": [
      "Found 15 images belonging to 5 classes.\n",
      "Found 0 images belonging to 5 classes.\n",
      "Loading model from file\n"
     ]
    },
    {
     "ename": "",
     "evalue": "",
     "output_type": "error",
     "traceback": [
      "\u001b[1;31mCanceled future for execute_request message before replies were done"
     ]
    },
    {
     "ename": "",
     "evalue": "",
     "output_type": "error",
     "traceback": [
      "\u001b[1;31mThe Kernel crashed while executing code in the the current cell or a previous cell. Please review the code in the cell(s) to identify a possible cause of the failure. Click <a href='https://aka.ms/vscodeJupyterKernelCrash'>here</a> for more info. View Jupyter <a href='command:jupyter.viewOutput'>log</a> for further details."
     ]
    }
   ],
   "source": [
    "# Open Model\n",
    "# cnnmodel = CNNModel(modelname=\"grade\", filename=\"simple_noarg.h5\", modelkind='simple', image_argumentation=False)\n",
    "classification_model = CNNModel(modelname=\"classification\", filename=\"simple_noarg.h5\", modelkind='simple', image_argumentation=False)\n",
    "grading_model = CNNModel(modelname=\"grade\", filename=\"simple_noarg.h5\", modelkind='simple', image_argumentation=False)"
   ]
  },
  {
   "cell_type": "code",
   "execution_count": 3,
   "metadata": {},
   "outputs": [
    {
     "name": "stdout",
     "output_type": "stream",
     "text": [
      "Model: \"model\"\n",
      "_________________________________________________________________\n",
      " Layer (type)                Output Shape              Param #   \n",
      "=================================================================\n",
      " input_1 (InputLayer)        [(None, 512, 512, 3)]     0         \n",
      "                                                                 \n",
      " conv2d (Conv2D)             (None, 510, 510, 16)      448       \n",
      "                                                                 \n",
      " max_pooling2d (MaxPooling2D  (None, 255, 255, 16)     0         \n",
      " )                                                               \n",
      "                                                                 \n",
      " conv2d_1 (Conv2D)           (None, 253, 253, 32)      4640      \n",
      "                                                                 \n",
      " max_pooling2d_1 (MaxPooling  (None, 126, 126, 32)     0         \n",
      " 2D)                                                             \n",
      "                                                                 \n",
      " conv2d_2 (Conv2D)           (None, 124, 124, 64)      18496     \n",
      "                                                                 \n",
      " max_pooling2d_2 (MaxPooling  (None, 62, 62, 64)       0         \n",
      " 2D)                                                             \n",
      "                                                                 \n",
      " flatten (Flatten)           (None, 246016)            0         \n",
      "                                                                 \n",
      " dense (Dense)               (None, 256)               62980352  \n",
      "                                                                 \n",
      " dense_1 (Dense)             (None, 4)                 1028      \n",
      "                                                                 \n",
      "=================================================================\n",
      "Total params: 63,004,964\n",
      "Trainable params: 63,004,964\n",
      "Non-trainable params: 0\n",
      "_________________________________________________________________\n",
      "You must install pydot (`pip install pydot`) and install graphviz (see instructions at https://graphviz.gitlab.io/download/) for plot_model to work.\n"
     ]
    }
   ],
   "source": [
    "cnnmodel.model.summary()\n",
    "tf.keras.utils.plot_model(cnnmodel.model, show_shapes=True, show_layer_names=True)"
   ]
  },
  {
   "cell_type": "code",
   "execution_count": 4,
   "metadata": {},
   "outputs": [],
   "source": [
    "# history = cnnmodel.train(epochs=100, callback_patience=20)"
   ]
  },
  {
   "cell_type": "code",
   "execution_count": 5,
   "metadata": {},
   "outputs": [],
   "source": [
    "# print(\"Evaluating model:\")\n",
    "# print(cnnmodel.model.evaluate(cnnmodel.validation_generator))"
   ]
  },
  {
   "cell_type": "code",
   "execution_count": 6,
   "metadata": {},
   "outputs": [],
   "source": [
    "# cnnmodel.save(filename=None)"
   ]
  },
  {
   "cell_type": "code",
   "execution_count": 7,
   "metadata": {},
   "outputs": [],
   "source": [
    "# import matplotlib.pyplot as plt\n",
    "\n",
    "# plt.plot(history.history['accuracy'], label='Training Accuracy')\n",
    "# plt.plot(history.history['val_accuracy'], label='Validation Accuracy')\n",
    "# plt.plot(history.history['loss'], label='Training Loss')\n",
    "# plt.plot(history.history['val_loss'], label='Validation Loss')\n",
    "# plt.xlabel('Epoch')\n",
    "# plt.ylabel('Accuracy/Loss')\n",
    "# plt.legend()\n",
    "# plt.show()\n",
    "# plt.savefig(cnnmodel.filename + \"_history.png\")"
   ]
  },
  {
   "cell_type": "code",
   "execution_count": 15,
   "metadata": {},
   "outputs": [
    {
     "name": "stdout",
     "output_type": "stream",
     "text": [
      "1/1 [==============================] - 0s 86ms/step\n",
      "{'hsil': 0.0, 'lsil': 0.0, 'normal': 0.0, 'scc': 1.0}\n",
      "{'hsil': 0.0, 'lsil': 0.0, 'normal': 0.0, 'scc': 1.0, 'maxlabel': 'scc'}\n",
      "1/1 [==============================] - 0s 71ms/step\n",
      "{'hsil': 0.0, 'lsil': 0.0, 'normal': 0.0, 'scc': 1.0}\n",
      "{'hsil': 0.0, 'lsil': 0.0, 'normal': 0.0, 'scc': 1.0, 'maxlabel': 'scc'}\n",
      "1/1 [==============================] - 0s 68ms/step\n",
      "{'hsil': 0.0, 'lsil': 0.0, 'normal': 0.0, 'scc': 1.0}\n",
      "{'hsil': 0.0, 'lsil': 0.0, 'normal': 0.0, 'scc': 1.0, 'maxlabel': 'scc'}\n",
      "1/1 [==============================] - 0s 70ms/step\n",
      "{'hsil': 0.0, 'lsil': 0.0, 'normal': 0.0, 'scc': 1.0}\n",
      "{'hsil': 0.0, 'lsil': 0.0, 'normal': 0.0, 'scc': 1.0, 'maxlabel': 'scc'}\n",
      "1/1 [==============================] - 0s 69ms/step\n",
      "{'hsil': 0.0, 'lsil': 0.0, 'normal': 0.0, 'scc': 1.0}\n",
      "{'hsil': 0.0, 'lsil': 0.0, 'normal': 0.0, 'scc': 1.0, 'maxlabel': 'scc'}\n"
     ]
    }
   ],
   "source": [
    "file = open(\"data/grade/scc/scc_1 (1).jpg\", \"rb\")\n",
    "print(cnnmodel.predict(file.read()))\n",
    "file = open(\"data/grade/scc/scc_1 (2).jpg\", \"rb\")\n",
    "print(cnnmodel.predict(file.read()))\n",
    "file = open(\"data/grade/scc/scc_1 (3).jpg\", \"rb\")\n",
    "print(cnnmodel.predict(file.read()))\n",
    "file = open(\"data/grade/scc/scc_1 (4).jpg\", \"rb\")\n",
    "print(cnnmodel.predict(file.read()))\n",
    "file = open(\"data/grade/scc/scc_1 (5).jpg\", \"rb\")\n",
    "print(cnnmodel.predict(file.read()))"
   ]
  }
 ],
 "metadata": {
  "kernelspec": {
   "display_name": "mlp",
   "language": "python",
   "name": "python3"
  },
  "language_info": {
   "codemirror_mode": {
    "name": "ipython",
    "version": 3
   },
   "file_extension": ".py",
   "mimetype": "text/x-python",
   "name": "python",
   "nbconvert_exporter": "python",
   "pygments_lexer": "ipython3",
   "version": "3.10.4"
  },
  "orig_nbformat": 4
 },
 "nbformat": 4,
 "nbformat_minor": 2
}
