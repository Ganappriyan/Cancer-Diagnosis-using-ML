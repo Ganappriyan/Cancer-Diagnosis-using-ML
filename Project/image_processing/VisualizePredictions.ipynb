{
 "cells": [
  {
   "cell_type": "code",
   "execution_count": 36,
   "metadata": {},
   "outputs": [],
   "source": [
    "import io\n",
    "import matplotlib.pyplot as plt\n",
    "import numpy as np\n",
    "\n",
    "def visualize_prediction(predictions):\n",
    "    # Convert predictions to a numpy array and extract the predicted class\n",
    "    labels = list(predictions.keys())\n",
    "    values = list(predictions.values())\n",
    "\n",
    "    # Create a pie chart to display the prediction probabilities\n",
    "    plt.figure()\n",
    "    plt.pie(values, labels=labels, autopct='%1.1f%%', labeldistance=1.2)\n",
    "    plt.title('Prediction Probabilities')\n",
    "\n",
    "    # Save the pie chart to a PNG file in memory\n",
    "    buf = io.BytesIO()\n",
    "    plt.savefig(buf, format='png')\n",
    "    buf.seek(0)\n",
    "    plt.close()\n",
    "\n",
    "    # Display the PNG image in memory\n",
    "    return buf.getvalue()\n"
   ]
  },
  {
   "cell_type": "code",
   "execution_count": 37,
   "metadata": {},
   "outputs": [
    {
     "name": "stdout",
     "output_type": "stream",
     "text": [
      "Found 440 images belonging to 5 classes.\n",
      "Found 110 images belonging to 5 classes.\n",
      "Classes: {'cervix_dyk': 0, 'cervix_koc': 1, 'cervix_mep': 2, 'cervix_pab': 3, 'cervix_sfi': 4}\n",
      "Loading model: lenet.h5\n"
     ]
    }
   ],
   "source": [
    "from cnnmodel import CNNModel\n",
    "\n",
    "model = CNNModel(\"classification\", \"lenet.h5\")\n"
   ]
  },
  {
   "cell_type": "code",
   "execution_count": 38,
   "metadata": {},
   "outputs": [
    {
     "name": "stdout",
     "output_type": "stream",
     "text": [
      "1/1 [==============================] - 0s 69ms/step\n",
      "{'cervix_dyk': 0.0, 'cervix_koc': 0.0, 'cervix_mep': 1.0, 'cervix_pab': 0.0, 'cervix_sfi': 0.0}\n"
     ]
    },
    {
     "data": {
      "image/png": "[encoded data removed]",
      "text/plain": [
       "<IPython.core.display.Image object>"
      ]
     },
     "execution_count": 38,
     "metadata": {},
     "output_type": "execute_result"
    }
   ],
   "source": [
    "predictions = model.predict(open(\"data/grade/hsil/HSIL_1 (2).jpg\", \"rb\").read())\n",
    "print(predictions)\n",
    "pngimg = visualize_prediction(predictions)\n",
    "\n",
    "# Display the PNG image from memory\n",
    "from IPython.display import Image\n",
    "Image(pngimg)\n"
   ]
  }
 ],
 "metadata": {
  "kernelspec": {
   "display_name": "cancerdiagnosis",
   "language": "python",
   "name": "python3"
  },
  "language_info": {
   "codemirror_mode": {
    "name": "ipython",
    "version": 3
   },
   "file_extension": ".py",
   "mimetype": "text/x-python",
   "name": "python",
   "nbconvert_exporter": "python",
   "pygments_lexer": "ipython3",
   "version": "3.8.16"
  },
  "orig_nbformat": 4
 },
 "nbformat": 4,
 "nbformat_minor": 2
}
